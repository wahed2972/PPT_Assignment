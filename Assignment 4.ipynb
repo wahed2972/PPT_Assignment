{
 "cells": [
  {
   "cell_type": "code",
   "execution_count": 7,
   "id": "0ea8ab41",
   "metadata": {},
   "outputs": [
    {
     "name": "stdout",
     "output_type": "stream",
     "text": [
      "[1, 5]\n"
     ]
    }
   ],
   "source": [
    "# Q.1\n",
    "\n",
    "def sorted(arr1,arr2,arr3):\n",
    "\n",
    "    set1 = set(arr1)\n",
    "    set2 = set(arr2)\n",
    "    set3 = set(arr3)\n",
    "    \n",
    "    s = set1.intersection(set2,set3)\n",
    "    r = list(s)\n",
    "                    \n",
    "    return r\n",
    "\n",
    "arr1 = [1,2,3,4,5]\n",
    "arr2 = [1,2,5,7,9]\n",
    "arr3 = [1,3,4,5,8]\n",
    "\n",
    "a = sorted(arr1, arr2 , arr3)\n",
    "print(a)"
   ]
  },
  {
   "cell_type": "code",
   "execution_count": 8,
   "id": "5784c8e3",
   "metadata": {},
   "outputs": [
    {
     "name": "stdout",
     "output_type": "stream",
     "text": [
      "[[1, 3], [4, 6]]\n"
     ]
    }
   ],
   "source": [
    "# Q.2\n",
    "\n",
    "def unique(nums1 ,nums2):\n",
    "    set1 = set(nums1)\n",
    "    set2 = set(nums2)\n",
    "    \n",
    "    diff_nums1 = list(set1.difference(set2))\n",
    "    diff_nums2 = list(set2.difference(set1))\n",
    "    \n",
    "    r = [diff_nums1, diff_nums2]\n",
    "    return r\n",
    "                \n",
    "nums1 = [1,2,3]\n",
    "nums2 = [2,4,6]\n",
    "\n",
    "a = unique(nums1 , nums2)\n",
    "print(a)"
   ]
  },
  {
   "cell_type": "code",
   "execution_count": 16,
   "id": "b5ac3364",
   "metadata": {},
   "outputs": [
    {
     "name": "stdout",
     "output_type": "stream",
     "text": [
      "[[1, 4, 7], [2, 5, 8], [3, 6, 9]]\n"
     ]
    }
   ],
   "source": [
    "# Q.3\n",
    "\n",
    "def transpose(matrix):\n",
    "    n = len(matrix)\n",
    "    m = len(matrix[0])\n",
    "    r = [[0] * n for _ in range(m)]\n",
    "     \n",
    "    for i in range(n):\n",
    "        for j in range(m):\n",
    "            r [j][i] = matrix[i][j]\n",
    "    return r\n",
    "            \n",
    "matrix = [[1,2,3],[4,5,6],[7,8,9]]\n",
    "a = transpose(matrix)\n",
    "print(a)"
   ]
  },
  {
   "cell_type": "code",
   "execution_count": 17,
   "id": "c7b5b091",
   "metadata": {},
   "outputs": [
    {
     "name": "stdout",
     "output_type": "stream",
     "text": [
      "4\n"
     ]
    }
   ],
   "source": [
    "# Q.4\n",
    "\n",
    "def pair(nums):\n",
    "    nums.sort()\n",
    "    n = len(nums)\n",
    "    max = 0\n",
    "    \n",
    "    for i in range (0, n ,2):\n",
    "        max += nums[i]\n",
    "        \n",
    "    return max\n",
    "\n",
    "nums = [1,4,3,2]\n",
    "result = pair(nums)\n",
    "print(result)"
   ]
  },
  {
   "cell_type": "code",
   "execution_count": 23,
   "id": "4b60a304",
   "metadata": {},
   "outputs": [
    {
     "name": "stdout",
     "output_type": "stream",
     "text": [
      "2\n"
     ]
    }
   ],
   "source": [
    "# Q.5\n",
    "\n",
    "import math\n",
    "\n",
    "def coins(n):\n",
    "    \n",
    "    k = int(math.sqrt(2*n))\n",
    "    if k * (k+1) > 2 * n:\n",
    "        return k - 1\n",
    "    return k\n",
    "\n",
    "n = 5\n",
    "r = coins(n)\n",
    "print(r)\n",
    "    "
   ]
  },
  {
   "cell_type": "code",
   "execution_count": 26,
   "id": "6939f095",
   "metadata": {},
   "outputs": [
    {
     "name": "stdout",
     "output_type": "stream",
     "text": [
      "[0, 1, 9, 16, 100]\n"
     ]
    }
   ],
   "source": [
    "# Q.6\n",
    "\n",
    "def sq(nums):\n",
    "    \n",
    "    r = list(map(lambda x : x**2,nums))\n",
    "    r.sort()\n",
    "    return r\n",
    "\n",
    "nums = [-4,-1,0,3,10]\n",
    "a = sq(nums)\n",
    "print(a)"
   ]
  },
  {
   "cell_type": "code",
   "execution_count": 29,
   "id": "1b6ca05d",
   "metadata": {},
   "outputs": [
    {
     "name": "stdout",
     "output_type": "stream",
     "text": [
      "4\n"
     ]
    }
   ],
   "source": [
    "# Q.7\n",
    "\n",
    "def count(m , n , ops):\n",
    "    \n",
    "    if not ops:\n",
    "        return m * n\n",
    "    \n",
    "    min_row = min(op[0] for op in ops)\n",
    "    min_col =  min(op[1] for op in ops)\n",
    "    \n",
    "    return min_row * min_col\n",
    "\n",
    "m = 3\n",
    "n = 3\n",
    "ops = [[2,2],[3,3]]\n",
    "a = count(m , n , ops)\n",
    "print(a)"
   ]
  },
  {
   "cell_type": "code",
   "execution_count": 33,
   "id": "dde57271",
   "metadata": {},
   "outputs": [
    {
     "name": "stdout",
     "output_type": "stream",
     "text": [
      "[2, 3, 5, 4, 1, 7]\n"
     ]
    }
   ],
   "source": [
    "# Q.8\n",
    "\n",
    "def arrange(nums,n):\n",
    "    r = []\n",
    "    for i in range(n):\n",
    "        r.append(nums[i])\n",
    "        r.append(nums[i+n])\n",
    "    return r\n",
    "    \n",
    "nums = [2,5,1,3,4,7]\n",
    "n = 3\n",
    "a = arrange(nums, n)\n",
    "print(a)"
   ]
  },
  {
   "cell_type": "code",
   "execution_count": null,
   "id": "81a5a19e",
   "metadata": {},
   "outputs": [],
   "source": []
  }
 ],
 "metadata": {
  "kernelspec": {
   "display_name": "Python 3 (ipykernel)",
   "language": "python",
   "name": "python3"
  },
  "language_info": {
   "codemirror_mode": {
    "name": "ipython",
    "version": 3
   },
   "file_extension": ".py",
   "mimetype": "text/x-python",
   "name": "python",
   "nbconvert_exporter": "python",
   "pygments_lexer": "ipython3",
   "version": "3.9.7"
  }
 },
 "nbformat": 4,
 "nbformat_minor": 5
}
