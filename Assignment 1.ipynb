{
 "cells": [
  {
   "cell_type": "code",
   "execution_count": 1,
   "id": "44be9977",
   "metadata": {},
   "outputs": [
    {
     "name": "stdout",
     "output_type": "stream",
     "text": [
      "The indices of the two numbers which add up to target is \n",
      "[0, 1]\n"
     ]
    }
   ],
   "source": [
    "#Q.1\n",
    "def sum(arr, target):\n",
    "    n = len(arr)\n",
    "    result = []\n",
    "    for i in range(n):\n",
    "        for j in range(i+1, n):\n",
    "            if arr[i] + arr[j] == target:\n",
    "                result.append(i)\n",
    "                result.append(j)\n",
    "    return result\n",
    "\n",
    "\n",
    "\n",
    "nums  = [2,7,11,15]\n",
    "target = 9\n",
    "\n",
    "a = sum(nums,target)\n",
    "\n",
    "print(\"The indices of the two numbers which add up to target is \")\n",
    "print(a)\n"
   ]
  },
  {
   "cell_type": "code",
   "execution_count": 3,
   "id": "3be5f1e2",
   "metadata": {},
   "outputs": [
    {
     "name": "stdout",
     "output_type": "stream",
     "text": [
      "The number of elements equal to 3 is 2\n",
      "2 2 -  -  "
     ]
    }
   ],
   "source": [
    "# Q.2\n",
    "def count(arr, val, n):\n",
    "\n",
    "    k=0;\n",
    "    for i in range(0, n):\n",
    "    \n",
    "        if (arr[i] !=val):\n",
    "        \n",
    "            arr[k]= arr[i] ;   \n",
    "            k+=1\n",
    "        \n",
    "    \n",
    "    return k;\n",
    "\n",
    "\n",
    "nums = [3,2,2,3]\n",
    "val = 3\n",
    "n=4\n",
    "    \n",
    "ans = count(nums,val,n)\n",
    "\n",
    "print(\"The number of elements equal to 3 is \", end =\"\")\n",
    "print(ans)\n",
    "    \n",
    "\n",
    "for i in range(0,n):\n",
    "        \n",
    "        if (i<ans):\n",
    "        \n",
    "            print(nums[i], end=\" \")\n",
    "        \n",
    "        else:\n",
    "        \n",
    "            nums[i] = 0;\n",
    "            print(\"- \", end=\" \");\n"
   ]
  },
  {
   "cell_type": "code",
   "execution_count": 4,
   "id": "088bdf9a",
   "metadata": {},
   "outputs": [
    {
     "name": "stdout",
     "output_type": "stream",
     "text": [
      "2\n"
     ]
    }
   ],
   "source": [
    "# Q.3\n",
    "\n",
    "def search(arr, target):\n",
    "    n = len(arr)\n",
    "    left=0\n",
    "    right = n-1\n",
    "    while (left<=right):\n",
    "    \n",
    "        mid = left + (right - left)//2\n",
    "\n",
    "        if (arr[mid]==target):\n",
    "        \n",
    "            return mid\n",
    "        \n",
    "        elif (arr[mid]<target):\n",
    "            left = mid + 1\n",
    "        \n",
    "        else:\n",
    "        \n",
    "            right = mid-1\n",
    "        \n",
    "    return left\n",
    "    \n",
    "\n",
    "nums = [1,3,5,6]\n",
    "target = 5\n",
    "ans = search(nums,target)\n",
    "print(ans)\n"
   ]
  },
  {
   "cell_type": "code",
   "execution_count": 5,
   "id": "c430f94c",
   "metadata": {},
   "outputs": [
    {
     "name": "stdout",
     "output_type": "stream",
     "text": [
      "[1, 2, 4]\n"
     ]
    }
   ],
   "source": [
    "# Q.4\n",
    "\n",
    "def plus(nums):\n",
    "    n = len(nums)\n",
    "    carry = 1\n",
    "    for i in range(n-1,-1,-1):\n",
    "        if nums[i] + carry < 10:\n",
    "            nums[i] += carry\n",
    "            return nums\n",
    "        else:\n",
    "            nums[i] = 0\n",
    "            carry = 1\n",
    "        \n",
    "    return [1] + nums\n",
    "\n",
    "digits = [1,2,3]\n",
    "\n",
    "ans = plus(digits)\n",
    "\n",
    "print(ans)"
   ]
  },
  {
   "cell_type": "code",
   "execution_count": 6,
   "id": "898dc7d7",
   "metadata": {},
   "outputs": [
    {
     "name": "stdout",
     "output_type": "stream",
     "text": [
      "Merged Array\n",
      "\n",
      "1 2 2 3 5 6 "
     ]
    }
   ],
   "source": [
    "# Q.5\n",
    "\n",
    "\n",
    "def merge(num1, m, num2, n):\n",
    "\n",
    "    p1 = m - 1\n",
    "    p2 = n - 1\n",
    "    p = m + n - 1\n",
    "\n",
    "    while (p1>=0 and p2>=0):\n",
    "    \n",
    "        if (num1[p1] > num2[p2]):\n",
    "        \n",
    "            num1[p] = num1[p1]\n",
    "            p1-=1\n",
    "        else:\n",
    "        \n",
    "            num1[p] = num2[p2]\n",
    "            p2-=1\n",
    "        \n",
    "        p-=1\n",
    "    \n",
    "\n",
    "    while (p2 >=0):\n",
    "    \n",
    "        num1[p] = num2[p2]\n",
    "        p2-=1\n",
    "        p-=1\n",
    "    \n",
    "\n",
    "\n",
    "nums1  =[1,2,3,0,0,0]\n",
    "m = 3\n",
    "nums2  = [2,5,6]\n",
    "n = 3\n",
    "\n",
    "merge(nums1, m , nums2, n)\n",
    "\n",
    "print(\"Merged Array\\n\")\n",
    "\n",
    "for i in nums1:\n",
    "        print(i , end=\" \")\n",
    "    "
   ]
  },
  {
   "cell_type": "code",
   "execution_count": 7,
   "id": "289059bc",
   "metadata": {},
   "outputs": [
    {
     "name": "stdout",
     "output_type": "stream",
     "text": [
      "True\n"
     ]
    }
   ],
   "source": [
    "# Q.6\n",
    "\n",
    "def compare(nums):\n",
    "    r = []\n",
    "    for i in nums:\n",
    "        if i in r:\n",
    "            return True\n",
    "        else:\n",
    "            r.append(i)\n",
    "    return False\n",
    "    \n",
    "    \n",
    "nums = [1,2,3,1]\n",
    "answer = compare(nums)\n",
    "print(answer)\n"
   ]
  },
  {
   "cell_type": "code",
   "execution_count": 8,
   "id": "2a6ca192",
   "metadata": {},
   "outputs": [
    {
     "name": "stdout",
     "output_type": "stream",
     "text": [
      "[1, 3, 8, 12, 0, 0, 0, 0, 0]\n"
     ]
    }
   ],
   "source": [
    "# Q.7\n",
    "\n",
    "def move(num):\n",
    "    k=0\n",
    "    for i in range(len(num)):\n",
    "        if num[i]!=0:\n",
    "            num[k] = num[i]\n",
    "            k+=1\n",
    "    \n",
    "    while k<len(num):\n",
    "        num[k] = 0\n",
    "        k+=1\n",
    "        \n",
    "    return num\n",
    "\n",
    "        \n",
    "        \n",
    "num = [0,1,0,3,8,0,0,0,12]\n",
    "s = move(num)\n",
    "print(s)"
   ]
  },
  {
   "cell_type": "code",
   "execution_count": 9,
   "id": "3b4bdf24",
   "metadata": {},
   "outputs": [
    {
     "name": "stdout",
     "output_type": "stream",
     "text": [
      "[2, 3]\n"
     ]
    }
   ],
   "source": [
    "# Q.8\n",
    "\n",
    "def find_error(num):\n",
    "    num_set = []\n",
    "    duplicate = 0\n",
    "    missing = 0\n",
    "    \n",
    "    for i in num:\n",
    "        if i in num_set:\n",
    "            duplicate = i\n",
    "        else:\n",
    "            num_set.append(i)\n",
    "            \n",
    "        \n",
    "    for i in range(1, len(num)+1):\n",
    "        if i not in num_set:\n",
    "            missing = i\n",
    "            break\n",
    "            \n",
    "    return [duplicate, missing]\n",
    "        \n",
    "        \n",
    "nums = [1,2,2,4]\n",
    "result = find_error(nums)\n",
    "print(result)\n"
   ]
  },
  {
   "cell_type": "code",
   "execution_count": null,
   "id": "a282a47a",
   "metadata": {},
   "outputs": [],
   "source": []
  }
 ],
 "metadata": {
  "kernelspec": {
   "display_name": "Python 3 (ipykernel)",
   "language": "python",
   "name": "python3"
  },
  "language_info": {
   "codemirror_mode": {
    "name": "ipython",
    "version": 3
   },
   "file_extension": ".py",
   "mimetype": "text/x-python",
   "name": "python",
   "nbconvert_exporter": "python",
   "pygments_lexer": "ipython3",
   "version": "3.9.7"
  }
 },
 "nbformat": 4,
 "nbformat_minor": 5
}
