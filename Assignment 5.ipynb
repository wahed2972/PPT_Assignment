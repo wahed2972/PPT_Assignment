{
 "cells": [
  {
   "cell_type": "code",
   "execution_count": 6,
   "id": "dc3fc429",
   "metadata": {},
   "outputs": [
    {
     "name": "stdout",
     "output_type": "stream",
     "text": [
      "[[1, 2], [3, 4]]\n"
     ]
    }
   ],
   "source": [
    "# Q.1\n",
    "\n",
    "def convert(original,m,n):\n",
    "    if m*n != len(original):\n",
    "        return []\n",
    "    r = [[0 for _ in range(n)] for _ in range(m)]\n",
    "    index = 0\n",
    "    for i in range(m):\n",
    "        for j in range(n):\n",
    "            r [i][j] = original[index]\n",
    "            index +=1\n",
    "    return r\n",
    "\n",
    "original = [1,2,3,4]\n",
    "m = 2\n",
    "n = 2\n",
    "a = convert(original, m ,n)\n",
    "print(a)"
   ]
  },
  {
   "cell_type": "code",
   "execution_count": 7,
   "id": "65f65bdd",
   "metadata": {},
   "outputs": [
    {
     "name": "stdout",
     "output_type": "stream",
     "text": [
      "2\n"
     ]
    }
   ],
   "source": [
    "# Q.2\n",
    "\n",
    "import math\n",
    "\n",
    "def coins(n):\n",
    "    \n",
    "    k = int(math.sqrt(2*n))\n",
    "    if k * (k+1) > 2 * n:\n",
    "        return k - 1\n",
    "    return k\n",
    "\n",
    "n = 5\n",
    "r = coins(n)\n",
    "print(r)\n",
    "    "
   ]
  },
  {
   "cell_type": "code",
   "execution_count": 6,
   "id": "41140fde",
   "metadata": {},
   "outputs": [
    {
     "name": "stdout",
     "output_type": "stream",
     "text": [
      "[0, 1, 9, 16, 100]\n"
     ]
    }
   ],
   "source": [
    "# Q.3\n",
    "\n",
    "def sq(nums):\n",
    "    r = list(map(lambda x : x**2,nums))\n",
    "    r.sort()\n",
    "    return r\n",
    "nums = [-4,-1,0,3,10]\n",
    "r = sq(nums)\n",
    "print(r)"
   ]
  },
  {
   "cell_type": "code",
   "execution_count": 9,
   "id": "1ccca93b",
   "metadata": {},
   "outputs": [
    {
     "name": "stdout",
     "output_type": "stream",
     "text": [
      "[[1, 3], [4, 6]]\n"
     ]
    }
   ],
   "source": [
    "# Q.4\n",
    "\n",
    "def diff(nums1, nums2):\n",
    "    set1 = set(nums1)\n",
    "    set2 = set(nums2)\n",
    "    \n",
    "    d1 = list(set1.difference(set2))\n",
    "    d2 = list(set2.difference(set1))\n",
    "    \n",
    "\n",
    "    return [d1,d2]\n",
    "\n",
    "nums1 = [1,2,3]\n",
    "nums2 = [2,4,6]\n",
    "\n",
    "r = diff(nums1,nums2)\n",
    "print(r)"
   ]
  },
  {
   "cell_type": "code",
   "execution_count": 10,
   "id": "56fbc08d",
   "metadata": {},
   "outputs": [
    {
     "name": "stdout",
     "output_type": "stream",
     "text": [
      "2\n"
     ]
    }
   ],
   "source": [
    "# Q.5\n",
    "\n",
    "def distance_value(arr1 ,arr2, d):\n",
    "    count = 0\n",
    "    for i in arr1:\n",
    "        f = False\n",
    "        for j in arr2:\n",
    "            if abs(i - j) <= d:\n",
    "                f = True\n",
    "                break\n",
    "        if not f:\n",
    "            count += 1\n",
    "            \n",
    "    return count\n",
    "\n",
    "arr1 = [4,5,8]\n",
    "arr2 = [10,9,1,8]\n",
    "d = 2\n",
    "r = distance_value(arr1 , arr2 , d)            \n",
    "print(r)    "
   ]
  },
  {
   "cell_type": "code",
   "execution_count": 15,
   "id": "5f7d7014",
   "metadata": {},
   "outputs": [
    {
     "name": "stdout",
     "output_type": "stream",
     "text": [
      "[2, 3]\n"
     ]
    }
   ],
   "source": [
    "# Q.6\n",
    "\n",
    "def repeat(nums):\n",
    "    r = []\n",
    "    nums.sort()\n",
    "    \n",
    "    for i in range(0, len(nums) - 1):\n",
    "        if nums[i] == nums[i+1]:\n",
    "            r.append(nums[i])\n",
    "\n",
    "    return r\n",
    "nums = [4,3,2,7,8,2,3,1]\n",
    "\n",
    "a = repeat(nums)\n",
    "print(a)"
   ]
  },
  {
   "cell_type": "code",
   "execution_count": 21,
   "id": "dfa038f4",
   "metadata": {},
   "outputs": [
    {
     "name": "stdout",
     "output_type": "stream",
     "text": [
      "1\n"
     ]
    }
   ],
   "source": [
    "# Q.7\n",
    "\n",
    "def findMin(nums):\n",
    "    low = 0\n",
    "    high = len(nums) - 1\n",
    "    \n",
    "    while low < high:\n",
    "        mid = low + (high - low)//2\n",
    "        \n",
    "        if nums[mid] > nums[high]:\n",
    "            low = mid + 1\n",
    "        else:\n",
    "            high = mid\n",
    "            \n",
    "    return nums[low]\n",
    "\n",
    "nums = [3,4,5,1,2]\n",
    "r = findMin(nums)\n",
    "print(r)"
   ]
  },
  {
   "cell_type": "code",
   "execution_count": 80,
   "id": "f1ab3b32",
   "metadata": {},
   "outputs": [
    {
     "name": "stdout",
     "output_type": "stream",
     "text": [
      "[1, 3, 4]\n"
     ]
    }
   ],
   "source": [
    "# Q.8\n",
    "\n",
    "def findOriginalArray(changed):\n",
    "    n = len(changed)\n",
    "    if n % 2 != 0:  \n",
    "        return []\n",
    "        \n",
    "    original = []\n",
    "    count = {}\n",
    "    for num in changed:\n",
    "        count[num] = count.get(num, 0) + 1\n",
    "        \n",
    "    sorted_nums = sorted(changed)\n",
    "    for num in sorted_nums:\n",
    "        if count[num] == 0:\n",
    "            continue\n",
    "        double = num * 2\n",
    "        if double not in count or count[double] == 0:\n",
    "            return []\n",
    "        original.append(num)\n",
    "        count[num] -= 1\n",
    "        count[double] -= 1\n",
    "\n",
    "    return original\n",
    "\n",
    "changed = [1,3,4,2,6,8]\n",
    "a = findOriginalArray(changed)\n",
    "print(a)\n"
   ]
  },
  {
   "cell_type": "code",
   "execution_count": null,
   "id": "b13023b0",
   "metadata": {},
   "outputs": [],
   "source": []
  }
 ],
 "metadata": {
  "kernelspec": {
   "display_name": "Python 3 (ipykernel)",
   "language": "python",
   "name": "python3"
  },
  "language_info": {
   "codemirror_mode": {
    "name": "ipython",
    "version": 3
   },
   "file_extension": ".py",
   "mimetype": "text/x-python",
   "name": "python",
   "nbconvert_exporter": "python",
   "pygments_lexer": "ipython3",
   "version": "3.9.7"
  }
 },
 "nbformat": 4,
 "nbformat_minor": 5
}
