{
 "cells": [
  {
   "cell_type": "code",
   "execution_count": 6,
   "id": "29094ecc",
   "metadata": {},
   "outputs": [
    {
     "name": "stdout",
     "output_type": "stream",
     "text": [
      "2\n"
     ]
    }
   ],
   "source": [
    "# Q.1\n",
    "\n",
    "def SumOfThree(nums, target):\n",
    "    nums.sort()\n",
    "    n = len(nums)\n",
    "    closestSum = float('inf')\n",
    "    minDiff = float('inf')\n",
    "\n",
    "    for i in range(n - 2):\n",
    "        left = i + 1\n",
    "        right = n - 1\n",
    "\n",
    "        while left < right:\n",
    "            currentSum = nums[i] + nums[left] + nums[right]\n",
    "            diff = abs(currentSum - target)\n",
    "\n",
    "            if diff == 0:\n",
    "                return currentSum\n",
    "\n",
    "            if diff < minDiff:\n",
    "                minDiff = diff\n",
    "                closestSum = currentSum\n",
    "\n",
    "            if currentSum < target:\n",
    "                left += 1\n",
    "            else:\n",
    "                right -= 1\n",
    "\n",
    "    return closestSum\n",
    "\n",
    "    \n",
    "nums = [-1,2,1,-4]\n",
    "target = 1\n",
    "r = SumOfThree(nums , target)\n",
    "print(r)"
   ]
  },
  {
   "cell_type": "code",
   "execution_count": 35,
   "id": "1f53373a",
   "metadata": {},
   "outputs": [
    {
     "name": "stdout",
     "output_type": "stream",
     "text": [
      "[[-2, -1, 1, 2], [-2, 0, 0, 2], [-1, 0, 0, 1]]\n"
     ]
    }
   ],
   "source": [
    "# Q.2\n",
    "\n",
    "def quad(nums , target):\n",
    "    nums.sort()\n",
    "    r = []\n",
    "    n = len(nums)\n",
    "    for i in range(n-3):\n",
    "\n",
    "            \n",
    "        for j in range (i+1,n-2):\n",
    "                \n",
    "            left = j + 1\n",
    "            right = n - 1\n",
    "        \n",
    "            while left < right:\n",
    "            \n",
    "                sumq = nums[i] + nums[j] + nums[left] + nums[right]\n",
    "                q = [nums[i],nums[j],nums[left],nums[right]]\n",
    "\n",
    "                \n",
    "                if sumq == target:\n",
    "                    if q not in r:\n",
    "                        r.append(q)\n",
    "                    \n",
    "                    while left < right and nums[left] == nums[left+1]:\n",
    "                        left +=1\n",
    "                    \n",
    "                        \n",
    "                    while left < right and nums[right] == nums[right-1]:\n",
    "                        right -=1\n",
    "                        \n",
    "                    left +=1\n",
    "                    right -=1                    \n",
    "                    \n",
    "            \n",
    "                elif sumq < target:\n",
    "                    left +=1\n",
    "                \n",
    "                else:\n",
    "                    right -=1\n",
    "    \n",
    "    return r\n",
    "    \n",
    "nums = [1,0,-1,0,-2,2]\n",
    "target = 0\n",
    "\n",
    "a = quad(nums, target)\n",
    "print(a)"
   ]
  },
  {
   "cell_type": "code",
   "execution_count": 40,
   "id": "c06c5fca",
   "metadata": {},
   "outputs": [
    {
     "name": "stdout",
     "output_type": "stream",
     "text": [
      "[2, 1, 3]\n"
     ]
    }
   ],
   "source": [
    "# Q.3\n",
    "\n",
    "def permutation(nums):\n",
    "    n = len(nums)\n",
    "    i = n - 1\n",
    "    \n",
    "    while i > 0 and nums[i-1] >= nums[i]:\n",
    "        i -= 1\n",
    "    if i == 0:\n",
    "        nums.reverse()\n",
    "        return\n",
    "    \n",
    "    j = n - 1\n",
    "    while j > i-1 and nums[j] <= nums[i-1]:\n",
    "        j -= 1\n",
    "        \n",
    "    nums[i-1] , nums[j] = nums[j], nums[i-1]\n",
    "    nums[i:] = nums[i:][::-1]\n",
    "    \n",
    "nums = [1,3,2]\n",
    "permutation(nums)\n",
    "print(nums)"
   ]
  },
  {
   "cell_type": "code",
   "execution_count": 61,
   "id": "45a9b1fa",
   "metadata": {},
   "outputs": [
    {
     "name": "stdout",
     "output_type": "stream",
     "text": [
      "2\n"
     ]
    }
   ],
   "source": [
    "# Q.4\n",
    "\n",
    "def index(nums ,target):\n",
    "    left = 0\n",
    "    right = len(nums) - 1\n",
    "    \n",
    "    while left <= right:\n",
    "        mid = (left + right)//2\n",
    "        if nums[mid] == target:\n",
    "            return mid\n",
    "        \n",
    "        elif nums[mid] > target:\n",
    "            right =mid - 1\n",
    "            \n",
    "        else:\n",
    "            left = mid + 1\n",
    "            \n",
    "    if target > nums[mid]:\n",
    "        return mid + 1\n",
    "    elif target < nums[mid] and target > nums[mid-1]:\n",
    "        return mid\n",
    "    else:\n",
    "        return left \n",
    "\n",
    "\n",
    "nums = [1,3,5,6]\n",
    "target = 5\n",
    "r = index(nums,target)\n",
    "print(r)"
   ]
  },
  {
   "cell_type": "code",
   "execution_count": 66,
   "id": "fe6e83b7",
   "metadata": {},
   "outputs": [
    {
     "name": "stdout",
     "output_type": "stream",
     "text": [
      "[1, 2, 4]\n"
     ]
    }
   ],
   "source": [
    "# Q.5\n",
    "\n",
    "def plus(nums):\n",
    "    n = len(nums)\n",
    "    carry = 1\n",
    "    \n",
    "    for i in range(n-1,-1,-1):\n",
    "        if nums[i] + carry < 10:\n",
    "            nums[i] += carry\n",
    "            return nums\n",
    "        else:\n",
    "            nums[i] = 0\n",
    "            carry = 1\n",
    "            \n",
    "    return [1] + nums\n",
    "\n",
    "nums = [1,2,3]\n",
    "r = plus(nums)\n",
    "print(r)"
   ]
  },
  {
   "cell_type": "code",
   "execution_count": 64,
   "id": "74cbb886",
   "metadata": {},
   "outputs": [
    {
     "name": "stdout",
     "output_type": "stream",
     "text": [
      "1\n"
     ]
    }
   ],
   "source": [
    "# Q.6\n",
    "\n",
    "def twice(nums):\n",
    "    result = 0\n",
    "    for i in nums:\n",
    "        result ^= i\n",
    "    return result\n",
    "\n",
    "nums = [2,2,1]\n",
    "r = twice(nums)\n",
    "print(r)"
   ]
  },
  {
   "cell_type": "code",
   "execution_count": 10,
   "id": "536d15f7",
   "metadata": {},
   "outputs": [
    {
     "name": "stdout",
     "output_type": "stream",
     "text": [
      "['2->2', '4->49', '51->74', '76->99']\n"
     ]
    }
   ],
   "source": [
    "# Q.7\n",
    "\n",
    "def findRange(nums, lower, upper):\n",
    "    ranges = []\n",
    "    \n",
    "    if nums[0] > lower:\n",
    "        ranges.append(formatRange(lower, nums[0] - 1))\n",
    "    \n",
    "    for i in range(1, len(nums)):\n",
    "        if nums[i] > nums[i-1] + 1:\n",
    "            ranges.append(formatRange(nums[i-1] + 1, nums[i] - 1))\n",
    "    \n",
    "    if nums[-1] < upper:\n",
    "        ranges.append(formatRange(nums[-1] + 1, upper))\n",
    "    \n",
    "    return ranges\n",
    "\n",
    "\n",
    "def formatRange(start, end):\n",
    "    return str(start) + '->' + str(end)\n",
    "\n",
    "\n",
    "nums = [0, 1, 3, 50, 75]\n",
    "lower = 0\n",
    "upper = 99\n",
    "\n",
    "ranges = findRange(nums, lower, upper)\n",
    "print(ranges)\n"
   ]
  },
  {
   "cell_type": "code",
   "execution_count": 14,
   "id": "b5be0afe",
   "metadata": {},
   "outputs": [
    {
     "name": "stdout",
     "output_type": "stream",
     "text": [
      "False\n"
     ]
    }
   ],
   "source": [
    "# Q.8\n",
    "\n",
    "def meeting(intervals):\n",
    "    intervals.sort(key=lambda x:x[0])\n",
    "    \n",
    "    for i in range(1, len(intervals)):\n",
    "        if intervals[i][0] < intervals[i-1][1]:\n",
    "            return False\n",
    "    return True\n",
    "    \n",
    "intervals = [[0,30],[5,10],[15,20]]\n",
    "r = meeting(intervals)\n",
    "print(r)"
   ]
  },
  {
   "cell_type": "code",
   "execution_count": null,
   "id": "94065a90",
   "metadata": {},
   "outputs": [],
   "source": []
  }
 ],
 "metadata": {
  "kernelspec": {
   "display_name": "Python 3 (ipykernel)",
   "language": "python",
   "name": "python3"
  },
  "language_info": {
   "codemirror_mode": {
    "name": "ipython",
    "version": 3
   },
   "file_extension": ".py",
   "mimetype": "text/x-python",
   "name": "python",
   "nbconvert_exporter": "python",
   "pygments_lexer": "ipython3",
   "version": "3.9.7"
  }
 },
 "nbformat": 4,
 "nbformat_minor": 5
}
