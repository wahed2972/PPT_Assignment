{
 "cells": [
  {
   "cell_type": "code",
   "execution_count": 2,
   "id": "05e76291",
   "metadata": {},
   "outputs": [
    {
     "name": "stdout",
     "output_type": "stream",
     "text": [
      "4\n"
     ]
    }
   ],
   "source": [
    "#Q.1\n",
    "\n",
    "\n",
    "\n",
    "def pair(nums):\n",
    "    nums.sort()\n",
    "    n = len(nums)\n",
    "    max = 0\n",
    "    \n",
    "    for i in range (0, n ,2):\n",
    "        max += nums[i]\n",
    "        \n",
    "    return max\n",
    "\n",
    "nums = [1,4,3,2]\n",
    "result = pair(nums)\n",
    "print(result)"
   ]
  },
  {
   "cell_type": "code",
   "execution_count": 3,
   "id": "7e1857b7",
   "metadata": {},
   "outputs": [
    {
     "name": "stdout",
     "output_type": "stream",
     "text": [
      "3\n"
     ]
    }
   ],
   "source": [
    "# Q.2\n",
    "\n",
    "def candy(candyType):\n",
    "    unique = len(set(candyType))\n",
    "    max = len(candyType)\n",
    "    return min(unique,max)\n",
    "\n",
    "candyType = [1,1,2,2,3,3]\n",
    "r = candy(candyType)\n",
    "print(r)\n",
    " \n",
    "    "
   ]
  },
  {
   "cell_type": "code",
   "execution_count": 19,
   "id": "475d7ed0",
   "metadata": {},
   "outputs": [
    {
     "name": "stdout",
     "output_type": "stream",
     "text": [
      "5\n"
     ]
    }
   ],
   "source": [
    "# Q.3\n",
    "\n",
    "def harmonious(nums):\n",
    "    freq = {}\n",
    "    max_length = 0\n",
    "    \n",
    "    for i in nums:\n",
    "        freq[i] = freq.get(i,0) + 1\n",
    "    #print(freq)\n",
    "        \n",
    "    for i in freq:\n",
    "        if i+1 in freq:\n",
    "            max_length = max(max_length, freq[i]+ freq[i + 1])\n",
    "            \n",
    "    return max_length\n",
    "\n",
    "nums = [1, 3, 2, 2, 5, 2, 3, 7]\n",
    "result = harmonious(nums)\n",
    "print(result)"
   ]
  },
  {
   "cell_type": "code",
   "execution_count": 9,
   "id": "8c3c7626",
   "metadata": {},
   "outputs": [
    {
     "name": "stdout",
     "output_type": "stream",
     "text": [
      "True\n"
     ]
    }
   ],
   "source": [
    "# Q.4\n",
    "\n",
    "def empty(nums,n):\n",
    "    i = 0\n",
    "    c = 0\n",
    "    if n==0:\n",
    "        return True\n",
    "    while i<len(nums): \n",
    "        if nums[i] == 0:\n",
    "            \n",
    "            if (i==0 or nums[i-1]==0) and (i==len(nums)-1 or nums[i+1]==0):\n",
    "                nums[i] = 1\n",
    "                c += 1\n",
    "                \n",
    "                if (c>=n):\n",
    "                    return True\n",
    "        i +=1\n",
    "        \n",
    "    return False\n",
    "\n",
    "\n",
    "flowerbed = [1,0,0,0,1]\n",
    "n = 1\n",
    "r = empty(flowerbed,n)\n",
    "print(r)"
   ]
  },
  {
   "cell_type": "code",
   "execution_count": 18,
   "id": "d014de27",
   "metadata": {},
   "outputs": [
    {
     "name": "stdout",
     "output_type": "stream",
     "text": [
      "6\n"
     ]
    }
   ],
   "source": [
    "# Q.5\n",
    "def product(nums):\n",
    "    n = len(nums)\n",
    "    if n<3:\n",
    "        return 0\n",
    "    else:\n",
    "        p=1\n",
    "        nums.sort(reverse=True)\n",
    "        p1 = nums[0]*nums[1]*nums[2]\n",
    "        p2 = nums[n-1]*nums[n-2]*nums[0]\n",
    "        p = max(p1,p2)\n",
    "        return p\n",
    "\n",
    "nums = [1,2,3]\n",
    "r = product(nums)\n",
    "print(r)"
   ]
  },
  {
   "cell_type": "code",
   "execution_count": 4,
   "id": "0dcd6ead",
   "metadata": {},
   "outputs": [
    {
     "name": "stdout",
     "output_type": "stream",
     "text": [
      "4\n"
     ]
    }
   ],
   "source": [
    "# Q.6\n",
    "\n",
    "def search(num, target):\n",
    "    low = 0\n",
    "    high = len(num) - 1    \n",
    "    while low<=high:\n",
    "        mid = (low + high)//2\n",
    "        if num[mid] == target:\n",
    "            return mid\n",
    "        elif num[mid]<target:\n",
    "            low = mid + 1\n",
    "        else:\n",
    "            high = mid - 1\n",
    "    return -1\n",
    "\n",
    "\n",
    "nums = [-1,0,3,5,9,12]\n",
    "target = 9\n",
    "r = search(nums, target)\n",
    "print(r)"
   ]
  },
  {
   "cell_type": "code",
   "execution_count": 16,
   "id": "15771d8d",
   "metadata": {},
   "outputs": [
    {
     "name": "stdout",
     "output_type": "stream",
     "text": [
      "True\n"
     ]
    }
   ],
   "source": [
    "# Q.7\n",
    "\n",
    "def monotonic(nums):\n",
    "    increasing , decreasing = True, True\n",
    "    n = len(nums)\n",
    "    for i in range (1,n):\n",
    "        if nums[i] < nums[i-1]:\n",
    "            increasing = False\n",
    "        if nums[i] > nums[i-1]:\n",
    "            decreasing = False\n",
    "            \n",
    "    if increasing == True or decreasing == True:\n",
    "        return True\n",
    "    else:\n",
    "        return False\n",
    "    \n",
    "    \n",
    "nums = [1,2,2,3]\n",
    "r = monotonic(nums)\n",
    "print(r)"
   ]
  },
  {
   "cell_type": "code",
   "execution_count": 10,
   "id": "11600d88",
   "metadata": {},
   "outputs": [
    {
     "name": "stdout",
     "output_type": "stream",
     "text": [
      "0\n"
     ]
    }
   ],
   "source": [
    "# Q.8\n",
    "\n",
    "def minimumScore(nums, k):\n",
    "    minimum = min(nums)\n",
    "    maximum = max(nums)\n",
    "\n",
    "    if minimum + k >= maximum - k:\n",
    "        return 0\n",
    "\n",
    "    return maximum - minimum - 2 * k\n",
    "\n",
    "\n",
    "nums = [1]\n",
    "k = 0\n",
    "r = minimumScore(nums, k)\n",
    "print(r)\n"
   ]
  },
  {
   "cell_type": "code",
   "execution_count": null,
   "id": "0d612309",
   "metadata": {},
   "outputs": [],
   "source": []
  }
 ],
 "metadata": {
  "kernelspec": {
   "display_name": "Python 3 (ipykernel)",
   "language": "python",
   "name": "python3"
  },
  "language_info": {
   "codemirror_mode": {
    "name": "ipython",
    "version": 3
   },
   "file_extension": ".py",
   "mimetype": "text/x-python",
   "name": "python",
   "nbconvert_exporter": "python",
   "pygments_lexer": "ipython3",
   "version": "3.9.7"
  }
 },
 "nbformat": 4,
 "nbformat_minor": 5
}
